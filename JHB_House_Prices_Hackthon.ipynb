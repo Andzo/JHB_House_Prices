{
 "cells": [
  {
   "cell_type": "code",
   "execution_count": 60,
   "metadata": {},
   "outputs": [],
   "source": [
    "import pandas as pd\n",
    "import numpy as np\n",
    "import matplotlib.pyplot as plt\n",
    "from sklearn.impute import SimpleImputer\n",
    "import seaborn as sns\n",
    "from sklearn.preprocessing import OneHotEncoder\n",
    "from sklearn.ensemble import RandomForestRegressor\n",
    "from sklearn.metrics import mean_absolute_error\n",
    "import sklearn.model_selection as ms\n",
    "import sklearn.metrics\n",
    "from xgboost import XGBRegressor\n",
    "import sklearn.model_selection as GridSearchCV\n",
    "from sklearn.linear_model import Ridge\n",
    "from sklearn.linear_model import Lasso\n",
    "from sklearn.linear_model import ElasticNetCV\n",
    "from sklearn.ensemble import ExtraTreesRegressor\n",
    "from sklearn.ensemble import VotingRegressor\n",
    "from mlxtend.regressor import StackingRegressor\n",
    "from sklearn.model_selection import RandomizedSearchCV"
   ]
  },
  {
   "cell_type": "code",
   "execution_count": 61,
   "metadata": {},
   "outputs": [],
   "source": [
    "train_df = pd.read_csv('house_prices_train.csv')\n",
    "test_df = pd.read_csv('house_prices_test.csv')"
   ]
  },
  {
   "cell_type": "code",
   "execution_count": 62,
   "metadata": {},
   "outputs": [
    {
     "data": {
      "text/html": [
       "<div>\n",
       "<style scoped>\n",
       "    .dataframe tbody tr th:only-of-type {\n",
       "        vertical-align: middle;\n",
       "    }\n",
       "\n",
       "    .dataframe tbody tr th {\n",
       "        vertical-align: top;\n",
       "    }\n",
       "\n",
       "    .dataframe thead th {\n",
       "        text-align: right;\n",
       "    }\n",
       "</style>\n",
       "<table border=\"1\" class=\"dataframe\">\n",
       "  <thead>\n",
       "    <tr style=\"text-align: right;\">\n",
       "      <th></th>\n",
       "      <th>ID</th>\n",
       "      <th>Bathrooms</th>\n",
       "      <th>Bedrooms</th>\n",
       "      <th>Erf Size</th>\n",
       "      <th>Garages</th>\n",
       "      <th>ID.1</th>\n",
       "      <th>Listing Date</th>\n",
       "      <th>Price</th>\n",
       "      <th>Type of Property</th>\n",
       "      <th>Location</th>\n",
       "    </tr>\n",
       "  </thead>\n",
       "  <tbody>\n",
       "    <tr>\n",
       "      <th>0</th>\n",
       "      <td>0</td>\n",
       "      <td>4.0</td>\n",
       "      <td>4.0</td>\n",
       "      <td>NaN</td>\n",
       "      <td>2.0</td>\n",
       "      <td>1003</td>\n",
       "      <td>2019-10-28</td>\n",
       "      <td>4299000.0</td>\n",
       "      <td>House</td>\n",
       "      <td>lat: 51.5073509,long: -0.1277583</td>\n",
       "    </tr>\n",
       "    <tr>\n",
       "      <th>1</th>\n",
       "      <td>1</td>\n",
       "      <td>2.0</td>\n",
       "      <td>3.0</td>\n",
       "      <td>1 733 m²</td>\n",
       "      <td>2.0</td>\n",
       "      <td>1011</td>\n",
       "      <td>2019-06-05</td>\n",
       "      <td>2800000.0</td>\n",
       "      <td>House</td>\n",
       "      <td>lat: 51.5073509,long: -0.1277583</td>\n",
       "    </tr>\n",
       "    <tr>\n",
       "      <th>2</th>\n",
       "      <td>2</td>\n",
       "      <td>2.0</td>\n",
       "      <td>3.0</td>\n",
       "      <td>987 m²</td>\n",
       "      <td>1.0</td>\n",
       "      <td>1016</td>\n",
       "      <td>2019-10-31</td>\n",
       "      <td>980000.0</td>\n",
       "      <td>House</td>\n",
       "      <td>lat: 51.5073509,long: -0.1277583</td>\n",
       "    </tr>\n",
       "    <tr>\n",
       "      <th>3</th>\n",
       "      <td>3</td>\n",
       "      <td>2.0</td>\n",
       "      <td>3.0</td>\n",
       "      <td>1 539 m²</td>\n",
       "      <td>2.0</td>\n",
       "      <td>1019</td>\n",
       "      <td>2019-10-14</td>\n",
       "      <td>1795000.0</td>\n",
       "      <td>House</td>\n",
       "      <td>lat: 51.5073509,long: -0.1277583</td>\n",
       "    </tr>\n",
       "    <tr>\n",
       "      <th>4</th>\n",
       "      <td>4</td>\n",
       "      <td>2.0</td>\n",
       "      <td>3.0</td>\n",
       "      <td>70 m²</td>\n",
       "      <td>NaN</td>\n",
       "      <td>1029</td>\n",
       "      <td>2019-10-02</td>\n",
       "      <td>837780.0</td>\n",
       "      <td>House</td>\n",
       "      <td>lat: 51.5073509,long: -0.1277583</td>\n",
       "    </tr>\n",
       "  </tbody>\n",
       "</table>\n",
       "</div>"
      ],
      "text/plain": [
       "   ID  Bathrooms  Bedrooms  Erf Size  Garages  ID.1 Listing Date      Price  \\\n",
       "0   0        4.0       4.0       NaN      2.0  1003   2019-10-28  4299000.0   \n",
       "1   1        2.0       3.0  1 733 m²      2.0  1011   2019-06-05  2800000.0   \n",
       "2   2        2.0       3.0    987 m²      1.0  1016   2019-10-31   980000.0   \n",
       "3   3        2.0       3.0  1 539 m²      2.0  1019   2019-10-14  1795000.0   \n",
       "4   4        2.0       3.0     70 m²      NaN  1029   2019-10-02   837780.0   \n",
       "\n",
       "  Type of Property                          Location  \n",
       "0            House  lat: 51.5073509,long: -0.1277583  \n",
       "1            House  lat: 51.5073509,long: -0.1277583  \n",
       "2            House  lat: 51.5073509,long: -0.1277583  \n",
       "3            House  lat: 51.5073509,long: -0.1277583  \n",
       "4            House  lat: 51.5073509,long: -0.1277583  "
      ]
     },
     "execution_count": 62,
     "metadata": {},
     "output_type": "execute_result"
    }
   ],
   "source": [
    "train_df.head()"
   ]
  },
  {
   "cell_type": "code",
   "execution_count": 63,
   "metadata": {},
   "outputs": [
    {
     "data": {
      "text/html": [
       "<div>\n",
       "<style scoped>\n",
       "    .dataframe tbody tr th:only-of-type {\n",
       "        vertical-align: middle;\n",
       "    }\n",
       "\n",
       "    .dataframe tbody tr th {\n",
       "        vertical-align: top;\n",
       "    }\n",
       "\n",
       "    .dataframe thead th {\n",
       "        text-align: right;\n",
       "    }\n",
       "</style>\n",
       "<table border=\"1\" class=\"dataframe\">\n",
       "  <thead>\n",
       "    <tr style=\"text-align: right;\">\n",
       "      <th></th>\n",
       "      <th>ID</th>\n",
       "      <th>Bathrooms</th>\n",
       "      <th>Bedrooms</th>\n",
       "      <th>Erf Size</th>\n",
       "      <th>Garages</th>\n",
       "      <th>ID.1</th>\n",
       "      <th>Listing Date</th>\n",
       "      <th>Price</th>\n",
       "      <th>Type of Property</th>\n",
       "      <th>Location</th>\n",
       "    </tr>\n",
       "  </thead>\n",
       "  <tbody>\n",
       "    <tr>\n",
       "      <th>0</th>\n",
       "      <td>0</td>\n",
       "      <td>2.0</td>\n",
       "      <td>2.0</td>\n",
       "      <td>70 m²</td>\n",
       "      <td>NaN</td>\n",
       "      <td>4001</td>\n",
       "      <td>2019-06-03</td>\n",
       "      <td>R 645 000</td>\n",
       "      <td>Apartment / Flat</td>\n",
       "      <td>lat: 51.5073509,long: -0.1277583</td>\n",
       "    </tr>\n",
       "    <tr>\n",
       "      <th>1</th>\n",
       "      <td>1</td>\n",
       "      <td>1.0</td>\n",
       "      <td>2.0</td>\n",
       "      <td>91 m²</td>\n",
       "      <td>NaN</td>\n",
       "      <td>4002</td>\n",
       "      <td>2019-02-05</td>\n",
       "      <td>R 670 000</td>\n",
       "      <td>Townhouse</td>\n",
       "      <td>lat: 51.5073509,long: -0.1277583</td>\n",
       "    </tr>\n",
       "    <tr>\n",
       "      <th>2</th>\n",
       "      <td>2</td>\n",
       "      <td>2.0</td>\n",
       "      <td>2.0</td>\n",
       "      <td>72 m²</td>\n",
       "      <td>NaN</td>\n",
       "      <td>4003</td>\n",
       "      <td>2019-05-03</td>\n",
       "      <td>R 799 000</td>\n",
       "      <td>Townhouse</td>\n",
       "      <td>lat: 51.5073509,long: -0.1277583</td>\n",
       "    </tr>\n",
       "    <tr>\n",
       "      <th>3</th>\n",
       "      <td>3</td>\n",
       "      <td>4.0</td>\n",
       "      <td>4.0</td>\n",
       "      <td>265 m²</td>\n",
       "      <td>2.0</td>\n",
       "      <td>4007</td>\n",
       "      <td>2019-02-12</td>\n",
       "      <td>R 3 990 000</td>\n",
       "      <td>House</td>\n",
       "      <td>lat: 51.5073509,long: -0.1277583</td>\n",
       "    </tr>\n",
       "    <tr>\n",
       "      <th>4</th>\n",
       "      <td>4</td>\n",
       "      <td>2.0</td>\n",
       "      <td>3.0</td>\n",
       "      <td>213 m²</td>\n",
       "      <td>2.0</td>\n",
       "      <td>4016</td>\n",
       "      <td>2018-08-07</td>\n",
       "      <td>R 2 030 000</td>\n",
       "      <td>Townhouse</td>\n",
       "      <td>lat: 51.5073509,long: -0.1277583</td>\n",
       "    </tr>\n",
       "  </tbody>\n",
       "</table>\n",
       "</div>"
      ],
      "text/plain": [
       "   ID  Bathrooms  Bedrooms Erf Size  Garages  ID.1 Listing Date        Price  \\\n",
       "0   0        2.0       2.0    70 m²      NaN  4001   2019-06-03    R 645 000   \n",
       "1   1        1.0       2.0    91 m²      NaN  4002   2019-02-05    R 670 000   \n",
       "2   2        2.0       2.0    72 m²      NaN  4003   2019-05-03    R 799 000   \n",
       "3   3        4.0       4.0   265 m²      2.0  4007   2019-02-12  R 3 990 000   \n",
       "4   4        2.0       3.0   213 m²      2.0  4016   2018-08-07  R 2 030 000   \n",
       "\n",
       "   Type of Property                          Location  \n",
       "0  Apartment / Flat  lat: 51.5073509,long: -0.1277583  \n",
       "1         Townhouse  lat: 51.5073509,long: -0.1277583  \n",
       "2         Townhouse  lat: 51.5073509,long: -0.1277583  \n",
       "3             House  lat: 51.5073509,long: -0.1277583  \n",
       "4         Townhouse  lat: 51.5073509,long: -0.1277583  "
      ]
     },
     "execution_count": 63,
     "metadata": {},
     "output_type": "execute_result"
    }
   ],
   "source": [
    "test_df.head()"
   ]
  },
  {
   "cell_type": "code",
   "execution_count": 64,
   "metadata": {},
   "outputs": [
    {
     "name": "stdout",
     "output_type": "stream",
     "text": [
      "<class 'pandas.core.frame.DataFrame'>\n",
      "RangeIndex: 739 entries, 0 to 738\n",
      "Data columns (total 10 columns):\n",
      "ID                  739 non-null int64\n",
      "Bathrooms           637 non-null float64\n",
      "Bedrooms            718 non-null float64\n",
      "Erf Size            578 non-null object\n",
      "Garages             450 non-null float64\n",
      "ID.1                739 non-null int64\n",
      "Listing Date        739 non-null object\n",
      "Price               737 non-null float64\n",
      "Type of Property    739 non-null object\n",
      "Location            739 non-null object\n",
      "dtypes: float64(4), int64(2), object(4)\n",
      "memory usage: 57.9+ KB\n"
     ]
    }
   ],
   "source": [
    "train_df.info()"
   ]
  },
  {
   "cell_type": "code",
   "execution_count": 65,
   "metadata": {},
   "outputs": [
    {
     "name": "stdout",
     "output_type": "stream",
     "text": [
      "<class 'pandas.core.frame.DataFrame'>\n",
      "RangeIndex: 150 entries, 0 to 149\n",
      "Data columns (total 10 columns):\n",
      "ID                  150 non-null int64\n",
      "Bathrooms           119 non-null float64\n",
      "Bedrooms            139 non-null float64\n",
      "Erf Size            82 non-null object\n",
      "Garages             73 non-null float64\n",
      "ID.1                150 non-null int64\n",
      "Listing Date        150 non-null object\n",
      "Price               150 non-null object\n",
      "Type of Property    150 non-null object\n",
      "Location            150 non-null object\n",
      "dtypes: float64(3), int64(2), object(5)\n",
      "memory usage: 11.8+ KB\n"
     ]
    }
   ],
   "source": [
    "test_df.info()"
   ]
  },
  {
   "cell_type": "markdown",
   "metadata": {},
   "source": [
    "### Data Pre-processing and cleaning"
   ]
  },
  {
   "cell_type": "code",
   "execution_count": 66,
   "metadata": {},
   "outputs": [],
   "source": [
    "# Set ID as index\n",
    "train_df.set_index('ID', inplace=True)\n",
    "test_df.set_index('ID', inplace=True)"
   ]
  },
  {
   "cell_type": "code",
   "execution_count": 67,
   "metadata": {},
   "outputs": [
    {
     "name": "stdout",
     "output_type": "stream",
     "text": [
      "[36 88]\n",
      "[718]\n"
     ]
    }
   ],
   "source": [
    "# Check if there are values in acres for 'Erf Size'\n",
    "\n",
    "erf_train_acres_index = train_df[['acres' in str(i) for i in train_df['Erf Size']]].index.values\n",
    "erf_test_acres_index = test_df[['acres' in str(i) for i in test_df['Erf Size']]].index.values\n",
    "\n",
    "print(erf_test_acres_index)\n",
    "print(erf_train_acres_index)"
   ]
  },
  {
   "cell_type": "code",
   "execution_count": 68,
   "metadata": {},
   "outputs": [],
   "source": [
    "train_df['Erf Size'] = [''.join(str(i).split()[:-1]) for i in train_df['Erf Size']]\n",
    "test_df['Erf Size'] = [''.join(str(i).split()[:-1]) for i in test_df['Erf Size']]"
   ]
  },
  {
   "cell_type": "code",
   "execution_count": 69,
   "metadata": {},
   "outputs": [
    {
     "name": "stdout",
     "output_type": "stream",
     "text": [
      "Train df:\n",
      " Bathrooms           13.802436\n",
      "Bedrooms             2.841678\n",
      "Erf Size             0.000000\n",
      "Garages             39.106901\n",
      "ID.1                 0.000000\n",
      "Listing Date         0.000000\n",
      "Price                0.270636\n",
      "Type of Property     0.000000\n",
      "Location             0.000000\n",
      "dtype: float64\n",
      "\n",
      "Test df:\n",
      " Bathrooms           20.666667\n",
      "Bedrooms             7.333333\n",
      "Erf Size             0.000000\n",
      "Garages             51.333333\n",
      "ID.1                 0.000000\n",
      "Listing Date         0.000000\n",
      "Price                0.000000\n",
      "Type of Property     0.000000\n",
      "Location             0.000000\n",
      "dtype: float64\n"
     ]
    }
   ],
   "source": [
    "#Percentages of missing values\n",
    "print('Train df:\\n',(train_df.isna().sum()/len(train_df))*100)\n",
    "print('\\nTest df:\\n',(test_df.isna().sum()/len(test_df))*100)"
   ]
  },
  {
   "cell_type": "code",
   "execution_count": 70,
   "metadata": {},
   "outputs": [
    {
     "name": "stderr",
     "output_type": "stream",
     "text": [
      "/home/explore/anaconda3/lib/python3.6/site-packages/ipykernel_launcher.py:3: FutureWarning: set_value is deprecated and will be removed in a future release. Please use .at[] or .iat[] accessors instead\n",
      "  This is separate from the ipykernel package so we can avoid doing imports until\n",
      "/home/explore/anaconda3/lib/python3.6/site-packages/ipykernel_launcher.py:5: FutureWarning: set_value is deprecated and will be removed in a future release. Please use .at[] or .iat[] accessors instead\n",
      "  \"\"\"\n"
     ]
    }
   ],
   "source": [
    "for i, r in train_df.iterrows():\n",
    "    if r['Erf Size'] == '':\n",
    "        train_df.set_value(i, 'Erf Size', 0.0)\n",
    "    else:\n",
    "        train_df.set_value(i, 'Erf Size', float(r['Erf Size']))\n",
    "        \n",
    "train_df['Erf Size'] = pd.to_numeric(train_df['Erf Size'])"
   ]
  },
  {
   "cell_type": "code",
   "execution_count": 12,
   "metadata": {},
   "outputs": [
    {
     "name": "stderr",
     "output_type": "stream",
     "text": [
      "/home/explore/anaconda3/lib/python3.6/site-packages/ipykernel_launcher.py:5: FutureWarning: set_value is deprecated and will be removed in a future release. Please use .at[] or .iat[] accessors instead\n",
      "  \"\"\"\n",
      "/home/explore/anaconda3/lib/python3.6/site-packages/ipykernel_launcher.py:3: FutureWarning: set_value is deprecated and will be removed in a future release. Please use .at[] or .iat[] accessors instead\n",
      "  This is separate from the ipykernel package so we can avoid doing imports until\n"
     ]
    }
   ],
   "source": [
    "for i, r in test_df.iterrows():\n",
    "    if r['Erf Size'] == '':\n",
    "        test_df.set_value(i, 'Erf Size', 0.0)\n",
    "    else:\n",
    "        test_df.set_value(i, 'Erf Size', float(r['Erf Size']))\n",
    "        \n",
    "test_df['Erf Size'] = pd.to_numeric(test_df['Erf Size'])"
   ]
  },
  {
   "cell_type": "code",
   "execution_count": 13,
   "metadata": {},
   "outputs": [
    {
     "name": "stdout",
     "output_type": "stream",
     "text": [
      "<class 'pandas.core.frame.DataFrame'>\n",
      "Int64Index: 739 entries, 0 to 738\n",
      "Data columns (total 9 columns):\n",
      "Bathrooms           637 non-null float64\n",
      "Bedrooms            718 non-null float64\n",
      "Erf Size            739 non-null float64\n",
      "Garages             450 non-null float64\n",
      "ID.1                739 non-null int64\n",
      "Listing Date        739 non-null object\n",
      "Price               737 non-null float64\n",
      "Type of Property    739 non-null object\n",
      "Location            739 non-null object\n",
      "dtypes: float64(5), int64(1), object(3)\n",
      "memory usage: 77.7+ KB\n"
     ]
    }
   ],
   "source": [
    "train_df.info()"
   ]
  },
  {
   "cell_type": "code",
   "execution_count": 14,
   "metadata": {},
   "outputs": [],
   "source": [
    "train_cols_with_missing = [col for col in train_df.columns if train_df[col].isnull().any()]\n",
    "\n",
    "imputer_mean = SimpleImputer(missing_values=np.nan, strategy='mean')\n",
    "imputed_mean_train = pd.DataFrame(imputer_mean.fit_transform(train_df[train_cols_with_missing]))\n",
    "imputed_mean_train.columns = train_cols_with_missing"
   ]
  },
  {
   "cell_type": "code",
   "execution_count": 15,
   "metadata": {},
   "outputs": [
    {
     "name": "stdout",
     "output_type": "stream",
     "text": [
      "<class 'pandas.core.frame.DataFrame'>\n",
      "Int64Index: 739 entries, 0 to 738\n",
      "Data columns (total 9 columns):\n",
      "Bathrooms           739 non-null float64\n",
      "Bedrooms            739 non-null float64\n",
      "Erf Size            739 non-null float64\n",
      "Garages             739 non-null float64\n",
      "ID.1                739 non-null int64\n",
      "Listing Date        739 non-null object\n",
      "Price               739 non-null float64\n",
      "Type of Property    739 non-null object\n",
      "Location            739 non-null object\n",
      "dtypes: float64(5), int64(1), object(3)\n",
      "memory usage: 77.7+ KB\n"
     ]
    }
   ],
   "source": [
    "train_df[train_cols_with_missing] = imputed_mean_train\n",
    "train_df.info()"
   ]
  },
  {
   "cell_type": "code",
   "execution_count": 16,
   "metadata": {},
   "outputs": [
    {
     "name": "stdout",
     "output_type": "stream",
     "text": [
      "<class 'pandas.core.frame.DataFrame'>\n",
      "Int64Index: 150 entries, 0 to 149\n",
      "Data columns (total 9 columns):\n",
      "Bathrooms           150 non-null float64\n",
      "Bedrooms            150 non-null float64\n",
      "Erf Size            150 non-null float64\n",
      "Garages             150 non-null float64\n",
      "ID.1                150 non-null int64\n",
      "Listing Date        150 non-null object\n",
      "Price               150 non-null object\n",
      "Type of Property    150 non-null object\n",
      "Location            150 non-null object\n",
      "dtypes: float64(4), int64(1), object(4)\n",
      "memory usage: 16.7+ KB\n"
     ]
    }
   ],
   "source": [
    "test_cols_with_missing = [col for col in test_df.columns if test_df[col].isnull().any()]\n",
    "\n",
    "imputer_mean = SimpleImputer(missing_values=np.nan, strategy='mean')\n",
    "imputed_mean_test = pd.DataFrame(imputer_mean.fit_transform(test_df[test_cols_with_missing]))\n",
    "imputed_mean_test.columns = test_cols_with_missing\n",
    "test_df[test_cols_with_missing] = imputed_mean_test\n",
    "test_df.info()"
   ]
  },
  {
   "cell_type": "code",
   "execution_count": 17,
   "metadata": {},
   "outputs": [],
   "source": [
    "test_df['Price'] = [float(''.join(str(i).split()[1:])) for i in test_df['Price']]\n"
   ]
  },
  {
   "cell_type": "code",
   "execution_count": 18,
   "metadata": {},
   "outputs": [
    {
     "data": {
      "text/plain": [
       "10117.15"
      ]
     },
     "execution_count": 18,
     "metadata": {},
     "output_type": "execute_result"
    }
   ],
   "source": [
    "test_df['Erf Size'].iloc[erf_test_acres_index].values[0]*4046.86"
   ]
  },
  {
   "cell_type": "code",
   "execution_count": 19,
   "metadata": {},
   "outputs": [
    {
     "name": "stderr",
     "output_type": "stream",
     "text": [
      "/home/explore/anaconda3/lib/python3.6/site-packages/ipykernel_launcher.py:1: FutureWarning: set_value is deprecated and will be removed in a future release. Please use .at[] or .iat[] accessors instead\n",
      "  \"\"\"Entry point for launching an IPython kernel.\n",
      "/home/explore/anaconda3/lib/python3.6/site-packages/ipykernel_launcher.py:2: FutureWarning: set_value is deprecated and will be removed in a future release. Please use .at[] or .iat[] accessors instead\n",
      "  \n",
      "/home/explore/anaconda3/lib/python3.6/site-packages/ipykernel_launcher.py:3: FutureWarning: set_value is deprecated and will be removed in a future release. Please use .at[] or .iat[] accessors instead\n",
      "  This is separate from the ipykernel package so we can avoid doing imports until\n"
     ]
    },
    {
     "data": {
      "text/html": [
       "<div>\n",
       "<style scoped>\n",
       "    .dataframe tbody tr th:only-of-type {\n",
       "        vertical-align: middle;\n",
       "    }\n",
       "\n",
       "    .dataframe tbody tr th {\n",
       "        vertical-align: top;\n",
       "    }\n",
       "\n",
       "    .dataframe thead th {\n",
       "        text-align: right;\n",
       "    }\n",
       "</style>\n",
       "<table border=\"1\" class=\"dataframe\">\n",
       "  <thead>\n",
       "    <tr style=\"text-align: right;\">\n",
       "      <th></th>\n",
       "      <th>Bathrooms</th>\n",
       "      <th>Bedrooms</th>\n",
       "      <th>Erf Size</th>\n",
       "      <th>Garages</th>\n",
       "      <th>ID.1</th>\n",
       "      <th>Listing Date</th>\n",
       "      <th>Price</th>\n",
       "      <th>Type of Property</th>\n",
       "      <th>Location</th>\n",
       "    </tr>\n",
       "    <tr>\n",
       "      <th>ID</th>\n",
       "      <th></th>\n",
       "      <th></th>\n",
       "      <th></th>\n",
       "      <th></th>\n",
       "      <th></th>\n",
       "      <th></th>\n",
       "      <th></th>\n",
       "      <th></th>\n",
       "      <th></th>\n",
       "    </tr>\n",
       "  </thead>\n",
       "  <tbody>\n",
       "    <tr>\n",
       "      <th>0</th>\n",
       "      <td>2.0</td>\n",
       "      <td>2.0</td>\n",
       "      <td>70.0</td>\n",
       "      <td>2.219178</td>\n",
       "      <td>4001</td>\n",
       "      <td>2019-06-03</td>\n",
       "      <td>645000.0</td>\n",
       "      <td>Apartment / Flat</td>\n",
       "      <td>lat: 51.5073509,long: -0.1277583</td>\n",
       "    </tr>\n",
       "    <tr>\n",
       "      <th>1</th>\n",
       "      <td>1.0</td>\n",
       "      <td>2.0</td>\n",
       "      <td>91.0</td>\n",
       "      <td>2.219178</td>\n",
       "      <td>4002</td>\n",
       "      <td>2019-02-05</td>\n",
       "      <td>670000.0</td>\n",
       "      <td>Townhouse</td>\n",
       "      <td>lat: 51.5073509,long: -0.1277583</td>\n",
       "    </tr>\n",
       "    <tr>\n",
       "      <th>2</th>\n",
       "      <td>2.0</td>\n",
       "      <td>2.0</td>\n",
       "      <td>72.0</td>\n",
       "      <td>2.219178</td>\n",
       "      <td>4003</td>\n",
       "      <td>2019-05-03</td>\n",
       "      <td>799000.0</td>\n",
       "      <td>Townhouse</td>\n",
       "      <td>lat: 51.5073509,long: -0.1277583</td>\n",
       "    </tr>\n",
       "    <tr>\n",
       "      <th>3</th>\n",
       "      <td>4.0</td>\n",
       "      <td>4.0</td>\n",
       "      <td>265.0</td>\n",
       "      <td>2.000000</td>\n",
       "      <td>4007</td>\n",
       "      <td>2019-02-12</td>\n",
       "      <td>3990000.0</td>\n",
       "      <td>House</td>\n",
       "      <td>lat: 51.5073509,long: -0.1277583</td>\n",
       "    </tr>\n",
       "    <tr>\n",
       "      <th>4</th>\n",
       "      <td>2.0</td>\n",
       "      <td>3.0</td>\n",
       "      <td>213.0</td>\n",
       "      <td>2.000000</td>\n",
       "      <td>4016</td>\n",
       "      <td>2018-08-07</td>\n",
       "      <td>2030000.0</td>\n",
       "      <td>Townhouse</td>\n",
       "      <td>lat: 51.5073509,long: -0.1277583</td>\n",
       "    </tr>\n",
       "    <tr>\n",
       "      <th>...</th>\n",
       "      <td>...</td>\n",
       "      <td>...</td>\n",
       "      <td>...</td>\n",
       "      <td>...</td>\n",
       "      <td>...</td>\n",
       "      <td>...</td>\n",
       "      <td>...</td>\n",
       "      <td>...</td>\n",
       "      <td>...</td>\n",
       "    </tr>\n",
       "    <tr>\n",
       "      <th>145</th>\n",
       "      <td>1.0</td>\n",
       "      <td>2.0</td>\n",
       "      <td>2000.0</td>\n",
       "      <td>2.219178</td>\n",
       "      <td>4572</td>\n",
       "      <td>2019-07-02</td>\n",
       "      <td>2500000.0</td>\n",
       "      <td>House</td>\n",
       "      <td>lat: 51.5073509,long: -0.1277583</td>\n",
       "    </tr>\n",
       "    <tr>\n",
       "      <th>146</th>\n",
       "      <td>2.0</td>\n",
       "      <td>4.0</td>\n",
       "      <td>0.0</td>\n",
       "      <td>2.000000</td>\n",
       "      <td>4575</td>\n",
       "      <td>2017-10-17</td>\n",
       "      <td>1300000.0</td>\n",
       "      <td>House</td>\n",
       "      <td>lat: 51.5073509,long: -0.1277583</td>\n",
       "    </tr>\n",
       "    <tr>\n",
       "      <th>147</th>\n",
       "      <td>1.0</td>\n",
       "      <td>2.0</td>\n",
       "      <td>0.0</td>\n",
       "      <td>2.219178</td>\n",
       "      <td>4580</td>\n",
       "      <td>2017-11-29</td>\n",
       "      <td>1195000.0</td>\n",
       "      <td>Townhouse</td>\n",
       "      <td>lat: 51.5073509,long: -0.1277583</td>\n",
       "    </tr>\n",
       "    <tr>\n",
       "      <th>148</th>\n",
       "      <td>2.0</td>\n",
       "      <td>3.0</td>\n",
       "      <td>1016.0</td>\n",
       "      <td>2.000000</td>\n",
       "      <td>4592</td>\n",
       "      <td>2019-04-25</td>\n",
       "      <td>1269000.0</td>\n",
       "      <td>House</td>\n",
       "      <td>lat: 51.5073509,long: -0.1277583</td>\n",
       "    </tr>\n",
       "    <tr>\n",
       "      <th>149</th>\n",
       "      <td>2.0</td>\n",
       "      <td>3.0</td>\n",
       "      <td>995.0</td>\n",
       "      <td>2.000000</td>\n",
       "      <td>4595</td>\n",
       "      <td>2018-04-23</td>\n",
       "      <td>1850000.0</td>\n",
       "      <td>House</td>\n",
       "      <td>lat: 51.5073509,long: -0.1277583</td>\n",
       "    </tr>\n",
       "  </tbody>\n",
       "</table>\n",
       "<p>150 rows × 9 columns</p>\n",
       "</div>"
      ],
      "text/plain": [
       "     Bathrooms  Bedrooms  Erf Size   Garages  ID.1 Listing Date      Price  \\\n",
       "ID                                                                           \n",
       "0          2.0       2.0      70.0  2.219178  4001   2019-06-03   645000.0   \n",
       "1          1.0       2.0      91.0  2.219178  4002   2019-02-05   670000.0   \n",
       "2          2.0       2.0      72.0  2.219178  4003   2019-05-03   799000.0   \n",
       "3          4.0       4.0     265.0  2.000000  4007   2019-02-12  3990000.0   \n",
       "4          2.0       3.0     213.0  2.000000  4016   2018-08-07  2030000.0   \n",
       "..         ...       ...       ...       ...   ...          ...        ...   \n",
       "145        1.0       2.0    2000.0  2.219178  4572   2019-07-02  2500000.0   \n",
       "146        2.0       4.0       0.0  2.000000  4575   2017-10-17  1300000.0   \n",
       "147        1.0       2.0       0.0  2.219178  4580   2017-11-29  1195000.0   \n",
       "148        2.0       3.0    1016.0  2.000000  4592   2019-04-25  1269000.0   \n",
       "149        2.0       3.0     995.0  2.000000  4595   2018-04-23  1850000.0   \n",
       "\n",
       "     Type of Property                          Location  \n",
       "ID                                                       \n",
       "0    Apartment / Flat  lat: 51.5073509,long: -0.1277583  \n",
       "1           Townhouse  lat: 51.5073509,long: -0.1277583  \n",
       "2           Townhouse  lat: 51.5073509,long: -0.1277583  \n",
       "3               House  lat: 51.5073509,long: -0.1277583  \n",
       "4           Townhouse  lat: 51.5073509,long: -0.1277583  \n",
       "..                ...                               ...  \n",
       "145             House  lat: 51.5073509,long: -0.1277583  \n",
       "146             House  lat: 51.5073509,long: -0.1277583  \n",
       "147         Townhouse  lat: 51.5073509,long: -0.1277583  \n",
       "148             House  lat: 51.5073509,long: -0.1277583  \n",
       "149             House  lat: 51.5073509,long: -0.1277583  \n",
       "\n",
       "[150 rows x 9 columns]"
      ]
     },
     "execution_count": 19,
     "metadata": {},
     "output_type": "execute_result"
    }
   ],
   "source": [
    "train_df.set_value(erf_train_acres_index[0], 'Erf Size', train_df['Erf Size'].iloc[erf_train_acres_index].values[0]*4046.86)\n",
    "test_df.set_value(erf_test_acres_index[0], 'Erf Size', test_df['Erf Size'].iloc[erf_test_acres_index].values[0]*4046.86)\n",
    "test_df.set_value(erf_test_acres_index[1], 'Erf Size', test_df['Erf Size'].iloc[erf_test_acres_index].values[1]*4046.86)"
   ]
  },
  {
   "cell_type": "code",
   "execution_count": 20,
   "metadata": {},
   "outputs": [
    {
     "name": "stdout",
     "output_type": "stream",
     "text": [
      "<class 'pandas.core.frame.DataFrame'>\n",
      "Int64Index: 889 entries, 0 to 149\n",
      "Data columns (total 9 columns):\n",
      "Bathrooms           889 non-null float64\n",
      "Bedrooms            889 non-null float64\n",
      "Erf Size            889 non-null float64\n",
      "Garages             889 non-null float64\n",
      "ID.1                889 non-null int64\n",
      "Listing Date        889 non-null object\n",
      "Price               889 non-null float64\n",
      "Type of Property    889 non-null object\n",
      "Location            889 non-null object\n",
      "dtypes: float64(5), int64(1), object(3)\n",
      "memory usage: 69.5+ KB\n"
     ]
    }
   ],
   "source": [
    "combined_df = pd.concat([train_df, test_df])\n",
    "combined_df.info()"
   ]
  },
  {
   "cell_type": "code",
   "execution_count": 21,
   "metadata": {},
   "outputs": [
    {
     "data": {
      "image/png": "[encoded data removed]",
      "text/plain": [
       "<Figure size 1224x72 with 2 Axes>"
      ]
     },
     "metadata": {},
     "output_type": "display_data"
    }
   ],
   "source": [
    "num = combined_df.select_dtypes(exclude='object')\n",
    "numcorr = num.corr()\n",
    "f,ax = plt.subplots(figsize=(17,1))\n",
    "sns.heatmap(numcorr.sort_values(by=['Price'], ascending=False).head(1), cmap='Blues')\n",
    "plt.title(\" Numerical features correlation with the sale price\", weight='bold', fontsize=18)\n",
    "plt.show()"
   ]
  },
  {
   "cell_type": "code",
   "execution_count": 22,
   "metadata": {},
   "outputs": [
    {
     "data": {
      "text/html": [
       "<style  type=\"text/css\" >\n",
       "    #T_915e6144_1758_11ea_86bf_3f9523c97f7erow0_col0 {\n",
       "            background-color:  #00ffff;\n",
       "            color:  #000000;\n",
       "        }    #T_915e6144_1758_11ea_86bf_3f9523c97f7erow1_col0 {\n",
       "            background-color:  #58ffff;\n",
       "            color:  #000000;\n",
       "        }    #T_915e6144_1758_11ea_86bf_3f9523c97f7erow2_col0 {\n",
       "            background-color:  #7bffff;\n",
       "            color:  #000000;\n",
       "        }    #T_915e6144_1758_11ea_86bf_3f9523c97f7erow3_col0 {\n",
       "            background-color:  #7effff;\n",
       "            color:  #000000;\n",
       "        }    #T_915e6144_1758_11ea_86bf_3f9523c97f7erow4_col0 {\n",
       "            background-color:  #d8ffff;\n",
       "            color:  #000000;\n",
       "        }    #T_915e6144_1758_11ea_86bf_3f9523c97f7erow5_col0 {\n",
       "            background-color:  #e5ffff;\n",
       "            color:  #000000;\n",
       "        }</style><table id=\"T_915e6144_1758_11ea_86bf_3f9523c97f7e\" ><thead>    <tr>        <th class=\"blank level0\" ></th>        <th class=\"col_heading level0 col0\" >Price</th>    </tr></thead><tbody>\n",
       "                <tr>\n",
       "                        <th id=\"T_915e6144_1758_11ea_86bf_3f9523c97f7elevel0_row0\" class=\"row_heading level0 row0\" >Price</th>\n",
       "                        <td id=\"T_915e6144_1758_11ea_86bf_3f9523c97f7erow0_col0\" class=\"data row0 col0\" >1</td>\n",
       "            </tr>\n",
       "            <tr>\n",
       "                        <th id=\"T_915e6144_1758_11ea_86bf_3f9523c97f7elevel0_row1\" class=\"row_heading level0 row1\" >Bathrooms</th>\n",
       "                        <td id=\"T_915e6144_1758_11ea_86bf_3f9523c97f7erow1_col0\" class=\"data row1 col0\" >0.614928</td>\n",
       "            </tr>\n",
       "            <tr>\n",
       "                        <th id=\"T_915e6144_1758_11ea_86bf_3f9523c97f7elevel0_row2\" class=\"row_heading level0 row2\" >Garages</th>\n",
       "                        <td id=\"T_915e6144_1758_11ea_86bf_3f9523c97f7erow2_col0\" class=\"data row2 col0\" >0.462844</td>\n",
       "            </tr>\n",
       "            <tr>\n",
       "                        <th id=\"T_915e6144_1758_11ea_86bf_3f9523c97f7elevel0_row3\" class=\"row_heading level0 row3\" >Bedrooms</th>\n",
       "                        <td id=\"T_915e6144_1758_11ea_86bf_3f9523c97f7erow3_col0\" class=\"data row3 col0\" >0.451173</td>\n",
       "            </tr>\n",
       "            <tr>\n",
       "                        <th id=\"T_915e6144_1758_11ea_86bf_3f9523c97f7elevel0_row4\" class=\"row_heading level0 row4\" >Erf Size</th>\n",
       "                        <td id=\"T_915e6144_1758_11ea_86bf_3f9523c97f7erow4_col0\" class=\"data row4 col0\" >0.0615332</td>\n",
       "            </tr>\n",
       "            <tr>\n",
       "                        <th id=\"T_915e6144_1758_11ea_86bf_3f9523c97f7elevel0_row5\" class=\"row_heading level0 row5\" >ID.1</th>\n",
       "                        <td id=\"T_915e6144_1758_11ea_86bf_3f9523c97f7erow5_col0\" class=\"data row5 col0\" >0.0017718</td>\n",
       "            </tr>\n",
       "    </tbody></table>"
      ],
      "text/plain": [
       "<pandas.io.formats.style.Styler at 0x7f2a37758e48>"
      ]
     },
     "execution_count": 22,
     "metadata": {},
     "output_type": "execute_result"
    }
   ],
   "source": [
    "Num = numcorr['Price'].sort_values(ascending=False).head(10).to_frame()\n",
    "\n",
    "cm = sns.light_palette(\"cyan\", as_cmap=True)\n",
    "\n",
    "s = Num.style.background_gradient(cmap=cm)\n",
    "s"
   ]
  },
  {
   "cell_type": "markdown",
   "metadata": {},
   "source": [
    "#### Encoding categorical columns"
   ]
  },
  {
   "cell_type": "code",
   "execution_count": 23,
   "metadata": {},
   "outputs": [
    {
     "name": "stdout",
     "output_type": "stream",
     "text": [
      "['House' 'Townhouse' 'Apartment / Flat']\n",
      "\n",
      " ['Apartment / Flat' 'Townhouse' 'House']\n"
     ]
    }
   ],
   "source": [
    "print(train_df['Type of Property'].unique())\n",
    "print('\\n',test_df['Type of Property'].unique())"
   ]
  },
  {
   "cell_type": "code",
   "execution_count": 24,
   "metadata": {},
   "outputs": [
    {
     "name": "stdout",
     "output_type": "stream",
     "text": [
      "['lat: 51.5073509,long: -0.1277583']\n",
      "['lat: 51.5073509,long: -0.1277583']\n"
     ]
    }
   ],
   "source": [
    "print(train_df.Location.unique())\n",
    "print(test_df.Location.unique())"
   ]
  },
  {
   "cell_type": "code",
   "execution_count": 25,
   "metadata": {},
   "outputs": [],
   "source": [
    "train_df.drop('Location', axis=1, inplace=True)\n",
    "test_df.drop('Location', axis=1, inplace=True)"
   ]
  },
  {
   "cell_type": "code",
   "execution_count": 26,
   "metadata": {},
   "outputs": [],
   "source": [
    "# Converting the 'Listing Date' column to datatime\n",
    "train_df['Listing Date'] = pd.to_datetime(train_df['Listing Date'])\n",
    "test_df['Listing Date'] = pd.to_datetime(test_df['Listing Date'])"
   ]
  },
  {
   "cell_type": "code",
   "execution_count": 27,
   "metadata": {},
   "outputs": [],
   "source": [
    "dummy_train = pd.get_dummies(train_df['Type of Property'])\n",
    "dummy_test = pd.get_dummies(test_df['Type of Property'])\n",
    "train_df_dummied = pd.merge(train_df.reset_index(), dummy_train.reset_index(), how='inner', on='ID')\n",
    "test_df_dummied = pd.merge(test_df.reset_index(), dummy_test.reset_index(), how='inner', on='ID')\n",
    "train_df_dummied.drop(['Type of Property','ID'], axis=1, inplace=True)\n",
    "test_df_dummied.drop(['Type of Property', 'ID'], axis=1, inplace=True)\n",
    "train_df_dummied.set_index('ID.1', inplace=True)\n",
    "test_df_dummied.set_index('ID.1', inplace=True)"
   ]
  },
  {
   "cell_type": "code",
   "execution_count": 28,
   "metadata": {},
   "outputs": [
    {
     "data": {
      "text/html": [
       "<div>\n",
       "<style scoped>\n",
       "    .dataframe tbody tr th:only-of-type {\n",
       "        vertical-align: middle;\n",
       "    }\n",
       "\n",
       "    .dataframe tbody tr th {\n",
       "        vertical-align: top;\n",
       "    }\n",
       "\n",
       "    .dataframe thead th {\n",
       "        text-align: right;\n",
       "    }\n",
       "</style>\n",
       "<table border=\"1\" class=\"dataframe\">\n",
       "  <thead>\n",
       "    <tr style=\"text-align: right;\">\n",
       "      <th></th>\n",
       "      <th>Bathrooms</th>\n",
       "      <th>Bedrooms</th>\n",
       "      <th>Erf Size</th>\n",
       "      <th>Garages</th>\n",
       "      <th>Listing Date</th>\n",
       "      <th>Price</th>\n",
       "      <th>Apartment / Flat</th>\n",
       "      <th>House</th>\n",
       "      <th>Townhouse</th>\n",
       "    </tr>\n",
       "    <tr>\n",
       "      <th>ID.1</th>\n",
       "      <th></th>\n",
       "      <th></th>\n",
       "      <th></th>\n",
       "      <th></th>\n",
       "      <th></th>\n",
       "      <th></th>\n",
       "      <th></th>\n",
       "      <th></th>\n",
       "      <th></th>\n",
       "    </tr>\n",
       "  </thead>\n",
       "  <tbody>\n",
       "    <tr>\n",
       "      <th>1003</th>\n",
       "      <td>4.0</td>\n",
       "      <td>4.0</td>\n",
       "      <td>0.0</td>\n",
       "      <td>2.000000</td>\n",
       "      <td>2019-10-28</td>\n",
       "      <td>4299000.0</td>\n",
       "      <td>0</td>\n",
       "      <td>1</td>\n",
       "      <td>0</td>\n",
       "    </tr>\n",
       "    <tr>\n",
       "      <th>1011</th>\n",
       "      <td>2.0</td>\n",
       "      <td>3.0</td>\n",
       "      <td>1733.0</td>\n",
       "      <td>2.000000</td>\n",
       "      <td>2019-06-05</td>\n",
       "      <td>2800000.0</td>\n",
       "      <td>0</td>\n",
       "      <td>1</td>\n",
       "      <td>0</td>\n",
       "    </tr>\n",
       "    <tr>\n",
       "      <th>1016</th>\n",
       "      <td>2.0</td>\n",
       "      <td>3.0</td>\n",
       "      <td>987.0</td>\n",
       "      <td>1.000000</td>\n",
       "      <td>2019-10-31</td>\n",
       "      <td>980000.0</td>\n",
       "      <td>0</td>\n",
       "      <td>1</td>\n",
       "      <td>0</td>\n",
       "    </tr>\n",
       "    <tr>\n",
       "      <th>1019</th>\n",
       "      <td>2.0</td>\n",
       "      <td>3.0</td>\n",
       "      <td>1539.0</td>\n",
       "      <td>2.000000</td>\n",
       "      <td>2019-10-14</td>\n",
       "      <td>1795000.0</td>\n",
       "      <td>0</td>\n",
       "      <td>1</td>\n",
       "      <td>0</td>\n",
       "    </tr>\n",
       "    <tr>\n",
       "      <th>1029</th>\n",
       "      <td>2.0</td>\n",
       "      <td>3.0</td>\n",
       "      <td>70.0</td>\n",
       "      <td>2.086667</td>\n",
       "      <td>2019-10-02</td>\n",
       "      <td>837780.0</td>\n",
       "      <td>0</td>\n",
       "      <td>1</td>\n",
       "      <td>0</td>\n",
       "    </tr>\n",
       "  </tbody>\n",
       "</table>\n",
       "</div>"
      ],
      "text/plain": [
       "      Bathrooms  Bedrooms  Erf Size   Garages Listing Date      Price  \\\n",
       "ID.1                                                                    \n",
       "1003        4.0       4.0       0.0  2.000000   2019-10-28  4299000.0   \n",
       "1011        2.0       3.0    1733.0  2.000000   2019-06-05  2800000.0   \n",
       "1016        2.0       3.0     987.0  1.000000   2019-10-31   980000.0   \n",
       "1019        2.0       3.0    1539.0  2.000000   2019-10-14  1795000.0   \n",
       "1029        2.0       3.0      70.0  2.086667   2019-10-02   837780.0   \n",
       "\n",
       "      Apartment / Flat  House  Townhouse  \n",
       "ID.1                                      \n",
       "1003                 0      1          0  \n",
       "1011                 0      1          0  \n",
       "1016                 0      1          0  \n",
       "1019                 0      1          0  \n",
       "1029                 0      1          0  "
      ]
     },
     "execution_count": 28,
     "metadata": {},
     "output_type": "execute_result"
    }
   ],
   "source": [
    "train_df_dummied.head()"
   ]
  },
  {
   "cell_type": "markdown",
   "metadata": {},
   "source": [
    "##### Drop columns with an insignificant correlation with Prices"
   ]
  },
  {
   "cell_type": "code",
   "execution_count": 29,
   "metadata": {},
   "outputs": [],
   "source": [
    "y_train = train_df_dummied.Price\n",
    "y_test = test_df_dummied.Price\n",
    "X_train = train_df_dummied.drop(['Erf Size', 'Listing Date', 'Price'], axis=1)\n",
    "X_test = test_df_dummied.drop(['Erf Size', 'Listing Date', 'Price'], axis=1)"
   ]
  },
  {
   "cell_type": "code",
   "execution_count": 30,
   "metadata": {},
   "outputs": [
    {
     "data": {
      "text/html": [
       "<div>\n",
       "<style scoped>\n",
       "    .dataframe tbody tr th:only-of-type {\n",
       "        vertical-align: middle;\n",
       "    }\n",
       "\n",
       "    .dataframe tbody tr th {\n",
       "        vertical-align: top;\n",
       "    }\n",
       "\n",
       "    .dataframe thead th {\n",
       "        text-align: right;\n",
       "    }\n",
       "</style>\n",
       "<table border=\"1\" class=\"dataframe\">\n",
       "  <thead>\n",
       "    <tr style=\"text-align: right;\">\n",
       "      <th></th>\n",
       "      <th>Bathrooms</th>\n",
       "      <th>Bedrooms</th>\n",
       "      <th>Garages</th>\n",
       "      <th>Apartment / Flat</th>\n",
       "      <th>House</th>\n",
       "      <th>Townhouse</th>\n",
       "    </tr>\n",
       "    <tr>\n",
       "      <th>ID.1</th>\n",
       "      <th></th>\n",
       "      <th></th>\n",
       "      <th></th>\n",
       "      <th></th>\n",
       "      <th></th>\n",
       "      <th></th>\n",
       "    </tr>\n",
       "  </thead>\n",
       "  <tbody>\n",
       "    <tr>\n",
       "      <th>1003</th>\n",
       "      <td>4.0</td>\n",
       "      <td>4.0</td>\n",
       "      <td>2.000000</td>\n",
       "      <td>0</td>\n",
       "      <td>1</td>\n",
       "      <td>0</td>\n",
       "    </tr>\n",
       "    <tr>\n",
       "      <th>1011</th>\n",
       "      <td>2.0</td>\n",
       "      <td>3.0</td>\n",
       "      <td>2.000000</td>\n",
       "      <td>0</td>\n",
       "      <td>1</td>\n",
       "      <td>0</td>\n",
       "    </tr>\n",
       "    <tr>\n",
       "      <th>1016</th>\n",
       "      <td>2.0</td>\n",
       "      <td>3.0</td>\n",
       "      <td>1.000000</td>\n",
       "      <td>0</td>\n",
       "      <td>1</td>\n",
       "      <td>0</td>\n",
       "    </tr>\n",
       "    <tr>\n",
       "      <th>1019</th>\n",
       "      <td>2.0</td>\n",
       "      <td>3.0</td>\n",
       "      <td>2.000000</td>\n",
       "      <td>0</td>\n",
       "      <td>1</td>\n",
       "      <td>0</td>\n",
       "    </tr>\n",
       "    <tr>\n",
       "      <th>1029</th>\n",
       "      <td>2.0</td>\n",
       "      <td>3.0</td>\n",
       "      <td>2.086667</td>\n",
       "      <td>0</td>\n",
       "      <td>1</td>\n",
       "      <td>0</td>\n",
       "    </tr>\n",
       "  </tbody>\n",
       "</table>\n",
       "</div>"
      ],
      "text/plain": [
       "      Bathrooms  Bedrooms   Garages  Apartment / Flat  House  Townhouse\n",
       "ID.1                                                                   \n",
       "1003        4.0       4.0  2.000000                 0      1          0\n",
       "1011        2.0       3.0  2.000000                 0      1          0\n",
       "1016        2.0       3.0  1.000000                 0      1          0\n",
       "1019        2.0       3.0  2.000000                 0      1          0\n",
       "1029        2.0       3.0  2.086667                 0      1          0"
      ]
     },
     "execution_count": 30,
     "metadata": {},
     "output_type": "execute_result"
    }
   ],
   "source": [
    "X_train.head()"
   ]
  },
  {
   "cell_type": "markdown",
   "metadata": {},
   "source": [
    "### Modelling"
   ]
  },
  {
   "cell_type": "code",
   "execution_count": 44,
   "metadata": {},
   "outputs": [
    {
     "name": "stdout",
     "output_type": "stream",
     "text": [
      "Fitting 5 folds for each of 100 candidates, totalling 500 fits\n"
     ]
    },
    {
     "name": "stderr",
     "output_type": "stream",
     "text": [
      "[Parallel(n_jobs=-1)]: Using backend LokyBackend with 8 concurrent workers.\n",
      "[Parallel(n_jobs=-1)]: Done  25 tasks      | elapsed:    7.8s\n",
      "[Parallel(n_jobs=-1)]: Done 146 tasks      | elapsed:   32.2s\n",
      "[Parallel(n_jobs=-1)]: Done 349 tasks      | elapsed:  1.2min\n",
      "[Parallel(n_jobs=-1)]: Done 500 out of 500 | elapsed:  1.7min finished\n"
     ]
    },
    {
     "name": "stdout",
     "output_type": "stream",
     "text": [
      "785952.37133319\n"
     ]
    }
   ],
   "source": [
    "# Number of trees in random forest\n",
    "n_estimators = [int(x) for x in np.linspace(start = 200, stop = 2000, num = 10)]\n",
    "# Number of features to consider at every split\n",
    "max_features = ['auto', 'sqrt']\n",
    "# Maximum number of levels in tree\n",
    "max_depth = [int(x) for x in np.linspace(10, 110, num = 11)]\n",
    "max_depth.append(None)\n",
    "# Minimum number of samples required to split a node\n",
    "min_samples_split = [2, 5, 10]\n",
    "# Minimum number of samples required at each leaf node\n",
    "min_samples_leaf = [1, 2, 4]\n",
    "# Method of selecting samples for training each tree\n",
    "bootstrap = [True, False]# Create the random grid\n",
    "random_grid = {'n_estimators': n_estimators,\n",
    "               'max_features': max_features,\n",
    "               'max_depth': max_depth,\n",
    "               'min_samples_split': min_samples_split,\n",
    "               'min_samples_leaf': min_samples_leaf,\n",
    "               'bootstrap': bootstrap}\n",
    "\n",
    "# Use the random grid to search for best hyperparameters\n",
    "# First create the base model to tune\n",
    "rf = RandomForestRegressor()\n",
    "# Random search of parameters, using 3 fold cross validation, \n",
    "# search across 100 different combinations, and use all available cores\n",
    "rf_random = RandomizedSearchCV(estimator = rf, param_distributions = random_grid, n_iter = 100, cv = 5, verbose=2, random_state=42, n_jobs = -1)# Fit the random search model\n",
    "rf_random.fit(X_train, y_train)\n",
    "rf_preds = forest_model.predict(X_test)\n",
    "print(mean_absolute_error(y_test, rf_preds))"
   ]
  },
  {
   "cell_type": "code",
   "execution_count": 32,
   "metadata": {},
   "outputs": [
    {
     "name": "stdout",
     "output_type": "stream",
     "text": [
      "685471.4929166667\n"
     ]
    },
    {
     "name": "stderr",
     "output_type": "stream",
     "text": [
      "/home/explore/anaconda3/lib/python3.6/site-packages/xgboost/core.py:587: FutureWarning: Series.base is deprecated and will be removed in a future version\n",
      "  if getattr(data, 'base', None) is not None and \\\n",
      "/home/explore/anaconda3/lib/python3.6/site-packages/xgboost/core.py:588: FutureWarning: Series.base is deprecated and will be removed in a future version\n",
      "  data.base is not None and isinstance(data, np.ndarray) \\\n"
     ]
    }
   ],
   "source": [
    "# xg_reg = XGBRegressor()\n",
    "# xgparam_grid= {'learning_rate' : [0.01],'n_estimators':[2000, 3460, 4000],\n",
    "#                                      'max_depth':[3], 'min_child_weight':[0,3,5],\n",
    "#                                     'colsample_bytree':[0.5,0.7],\n",
    "#                                      'reg_alpha':[0.0001,0.001,0.01,0.1,10,100],\n",
    "#                                     'reg_lambda':[1,0.01,0.8,0.001,0.0001]}\n",
    "\n",
    "# xg_grid= ms.GridSearchCV(xg_reg, param_grid=xgparam_grid, cv=5, scoring='neg_mean_squared_error', n_jobs=-1)\n",
    "# xg_grid.fit(X_train,y_train)\n",
    "# print(xg_grid.best_estimator_)\n",
    "# print(xg_grid.best_score_)\n",
    "\n",
    "xgb_model =XGBRegressor(base_score=0.5, booster='gbtree', colsample_bylevel=1,\n",
    "             colsample_bynode=1, colsample_bytree=0.5, gamma=0,\n",
    "             importance_type='gain', learning_rate=0.01, max_delta_step=0,\n",
    "             max_depth=3, min_child_weight=3, missing=None, n_estimators=4000,\n",
    "             n_jobs=1, nthread=None, objective='reg:squarederror', random_state=0,\n",
    "             reg_alpha=0.001, reg_lambda=0.0001, scale_pos_weight=1, seed=None,\n",
    "             silent=None, subsample=1, verbosity=1)\n",
    "xgb_model.fit(X_train, y_train, early_stopping_rounds=4, eval_set=[(X_test, y_test)], verbose=False)\n",
    "xgb_preds = xgb_model.predict(X_test)\n",
    "print(mean_absolute_error(y_test, xgb_preds))"
   ]
  },
  {
   "cell_type": "code",
   "execution_count": 33,
   "metadata": {},
   "outputs": [
    {
     "name": "stdout",
     "output_type": "stream",
     "text": [
      "The best value of Alpha is:  26\n",
      "The best score achieved with Alpha=14 is:  1656619.9119183242\n",
      "MAE: 883268.2860177314\n"
     ]
    }
   ],
   "source": [
    "ridge = Ridge()\n",
    "parameters = {'alpha':[x for x in range(1,101)]}\n",
    "\n",
    "ridge_reg = ms.GridSearchCV(ridge, param_grid=parameters, scoring='neg_mean_squared_error', cv=15)\n",
    "ridge_reg.fit(X_train,y_train)\n",
    "print(\"The best value of Alpha is: \",ridge_reg.best_params_['alpha'])\n",
    "print(\"The best score achieved with Alpha=14 is: \",np.sqrt(-ridge_reg.best_score_))\n",
    "ridge = Ridge(alpha=ridge_reg.best_params_['alpha'])\n",
    "ridge.fit(X_train,y_train)\n",
    "ridge_model = Ridge(alpha=ridge_reg.best_params_['alpha'])\n",
    "ridge_model.fit(X_train,y_train)\n",
    "ridge_preds = ridge_model.predict(X_test)\n",
    "print('MAE:',mean_absolute_error(y_test, ridge_preds))"
   ]
  },
  {
   "cell_type": "code",
   "execution_count": 34,
   "metadata": {},
   "outputs": [
    {
     "name": "stdout",
     "output_type": "stream",
     "text": [
      "The best value of Alpha is:  {'alpha': 100}\n",
      "MAE: 894529.7208746431\n"
     ]
    }
   ],
   "source": [
    "parameters = {'alpha':[0.0001,0.0009,0.001,0.002,0.003,0.01,0.1,1,10,100]}\n",
    "\n",
    "lasso = Lasso(tol=0.04)\n",
    "lasso_reg = ms.GridSearchCV(lasso, param_grid=parameters, scoring='neg_mean_squared_error', cv=15)\n",
    "lasso_reg.fit(X_train,y_train)\n",
    "\n",
    "print('The best value of Alpha is: ',lasso_reg.best_params_)\n",
    "lasso_model = Lasso(alpha=lasso_reg.best_params_['alpha'], tol=0.04)\n",
    "lasso_model.fit(X_train,y_train)\n",
    "lasso_preds = lasso_model.predict(X_test)\n",
    "print('MAE:',mean_absolute_error(y_test, lasso_preds))"
   ]
  },
  {
   "cell_type": "code",
   "execution_count": 35,
   "metadata": {},
   "outputs": [
    {
     "name": "stdout",
     "output_type": "stream",
     "text": [
      "Root Mean Square Error test = 890992.1217068132\n",
      "1.0\n"
     ]
    }
   ],
   "source": [
    "alphas =  [10,1,0.1,0.01,0.001,0.002,0.003,0.004,0.005,0.00054255]\n",
    "l1ratio = [0.1, 0.3,0.5, 0.9, 0.95, 0.99, 1]\n",
    "\n",
    "elastic_cv = ElasticNetCV(cv=5, max_iter=1e7, alphas=alphas,  l1_ratio=l1ratio)\n",
    "\n",
    "elasticmod = elastic_cv.fit(X_train, y_train.ravel())\n",
    "ela_pred=elasticmod.predict(X_test)\n",
    "print('Root Mean Square Error test = ' + str(mean_absolute_error(y_test, ela_pred)))\n",
    "print(elastic_cv.alpha_)"
   ]
  },
  {
   "cell_type": "code",
   "execution_count": 46,
   "metadata": {},
   "outputs": [
    {
     "name": "stdout",
     "output_type": "stream",
     "text": [
      "Fitting 5 folds for each of 100 candidates, totalling 500 fits\n"
     ]
    },
    {
     "name": "stderr",
     "output_type": "stream",
     "text": [
      "[Parallel(n_jobs=-1)]: Using backend LokyBackend with 8 concurrent workers.\n",
      "[Parallel(n_jobs=-1)]: Done  25 tasks      | elapsed:    7.7s\n",
      "[Parallel(n_jobs=-1)]: Done 146 tasks      | elapsed:   32.0s\n",
      "[Parallel(n_jobs=-1)]: Done 349 tasks      | elapsed:  1.2min\n",
      "[Parallel(n_jobs=-1)]: Done 500 out of 500 | elapsed:  1.7min finished\n"
     ]
    },
    {
     "name": "stdout",
     "output_type": "stream",
     "text": [
      "Root Mean Square Error test = 831874.8610566761\n"
     ]
    }
   ],
   "source": [
    "vote_model = VotingRegressor([('Random_Forest', rf_random), ('Ridge', ridge_model), ('Lasso', lasso_model), ('Elastic', elastic_cv), ('XGBRegressor', xgb_model)])\n",
    "vote = vote_model.fit(X_train, y_train.ravel())\n",
    "vote_preds = vote.predict(X_test)\n",
    "\n",
    "print('Root Mean Square Error test = ' + str(mean_absolute_error(y_test, vote_preds)))"
   ]
  },
  {
   "cell_type": "code",
   "execution_count": 49,
   "metadata": {},
   "outputs": [
    {
     "name": "stdout",
     "output_type": "stream",
     "text": [
      "Fitting 5 folds for each of 100 candidates, totalling 500 fits\n"
     ]
    },
    {
     "name": "stderr",
     "output_type": "stream",
     "text": [
      "[Parallel(n_jobs=-1)]: Using backend LokyBackend with 8 concurrent workers.\n",
      "[Parallel(n_jobs=-1)]: Done  25 tasks      | elapsed:    7.8s\n",
      "[Parallel(n_jobs=-1)]: Done 146 tasks      | elapsed:   32.3s\n",
      "[Parallel(n_jobs=-1)]: Done 349 tasks      | elapsed:  1.2min\n",
      "[Parallel(n_jobs=-1)]: Done 500 out of 500 | elapsed:  1.7min finished\n"
     ]
    },
    {
     "name": "stdout",
     "output_type": "stream",
     "text": [
      "Fitting 5 folds for each of 100 candidates, totalling 500 fits\n"
     ]
    },
    {
     "name": "stderr",
     "output_type": "stream",
     "text": [
      "[Parallel(n_jobs=-1)]: Using backend LokyBackend with 8 concurrent workers.\n",
      "[Parallel(n_jobs=-1)]: Done  25 tasks      | elapsed:    7.7s\n",
      "[Parallel(n_jobs=-1)]: Done 146 tasks      | elapsed:   32.3s\n",
      "[Parallel(n_jobs=-1)]: Done 349 tasks      | elapsed:  1.2min\n",
      "[Parallel(n_jobs=-1)]: Done 500 out of 500 | elapsed:  1.7min finished\n"
     ]
    },
    {
     "name": "stdout",
     "output_type": "stream",
     "text": [
      "Root Mean Square Error test = 899788.9870833333\n"
     ]
    }
   ],
   "source": [
    "stregr = StackingRegressor(regressors=[rf_random, elastic_cv,ridge_model, lasso_model, vote_model], \n",
    "                           meta_regressor=xgb_model, use_features_in_secondary=True\n",
    "                          )\n",
    "\n",
    "stack_model = stregr.fit(X_train, y_train.ravel())\n",
    "stack_preds = stack_model.predict(X_test)\n",
    "\n",
    "print('Root Mean Square Error test = ' + str(mean_absolute_error(y_test, stack_preds)))"
   ]
  },
  {
   "cell_type": "code",
   "execution_count": 81,
   "metadata": {},
   "outputs": [
    {
     "data": {
      "text/html": [
       "<div>\n",
       "<style scoped>\n",
       "    .dataframe tbody tr th:only-of-type {\n",
       "        vertical-align: middle;\n",
       "    }\n",
       "\n",
       "    .dataframe tbody tr th {\n",
       "        vertical-align: top;\n",
       "    }\n",
       "\n",
       "    .dataframe thead th {\n",
       "        text-align: right;\n",
       "    }\n",
       "</style>\n",
       "<table border=\"1\" class=\"dataframe\">\n",
       "  <thead>\n",
       "    <tr style=\"text-align: right;\">\n",
       "      <th></th>\n",
       "      <th>Id</th>\n",
       "      <th>Price</th>\n",
       "    </tr>\n",
       "  </thead>\n",
       "  <tbody>\n",
       "    <tr>\n",
       "      <th>0</th>\n",
       "      <td>4001</td>\n",
       "      <td>645000.0</td>\n",
       "    </tr>\n",
       "    <tr>\n",
       "      <th>1</th>\n",
       "      <td>4002</td>\n",
       "      <td>670000.0</td>\n",
       "    </tr>\n",
       "    <tr>\n",
       "      <th>2</th>\n",
       "      <td>4003</td>\n",
       "      <td>799000.0</td>\n",
       "    </tr>\n",
       "    <tr>\n",
       "      <th>3</th>\n",
       "      <td>4007</td>\n",
       "      <td>3990000.0</td>\n",
       "    </tr>\n",
       "    <tr>\n",
       "      <th>4</th>\n",
       "      <td>4016</td>\n",
       "      <td>2030000.0</td>\n",
       "    </tr>\n",
       "  </tbody>\n",
       "</table>\n",
       "</div>"
      ],
      "text/plain": [
       "     Id      Price\n",
       "0  4001   645000.0\n",
       "1  4002   670000.0\n",
       "2  4003   799000.0\n",
       "3  4007  3990000.0\n",
       "4  4016  2030000.0"
      ]
     },
     "execution_count": 81,
     "metadata": {},
     "output_type": "execute_result"
    }
   ],
   "source": [
    "final_submission = pd.DataFrame({\n",
    "        \"Id\": X_test.index.values,\n",
    "        \"Price\": [float(''.join(i.split()[1:])) for i in test_df.Price]\n",
    "    })\n",
    "final_submission.to_csv(\"final_submission2.csv\", index=False)\n",
    "final_submission.head()"
   ]
  },
  {
   "cell_type": "code",
   "execution_count": 80,
   "metadata": {},
   "outputs": [
    {
     "data": {
      "text/plain": [
       "150"
      ]
     },
     "execution_count": 80,
     "metadata": {},
     "output_type": "execute_result"
    }
   ],
   "source": [
    "y_prices = [float(''.join(i.split()[1:])) for i in test_df.Price]\n",
    "len(y_prices)"
   ]
  },
  {
   "cell_type": "code",
   "execution_count": null,
   "metadata": {},
   "outputs": [],
   "source": []
  }
 ],
 "metadata": {
  "kernelspec": {
   "display_name": "Python 3",
   "language": "python",
   "name": "python3"
  },
  "language_info": {
   "codemirror_mode": {
    "name": "ipython",
    "version": 3
   },
   "file_extension": ".py",
   "mimetype": "text/x-python",
   "name": "python",
   "nbconvert_exporter": "python",
   "pygments_lexer": "ipython3",
   "version": "3.6.6"
  }
 },
 "nbformat": 4,
 "nbformat_minor": 2
}
